{
 "cells": [
  {
   "cell_type": "code",
   "execution_count": 1,
   "id": "edea309a",
   "metadata": {},
   "outputs": [
    {
     "name": "stderr",
     "output_type": "stream",
     "text": [
      "Using TensorFlow backend.\n"
     ]
    }
   ],
   "source": [
    "import keras"
   ]
  },
  {
   "cell_type": "code",
   "execution_count": 3,
   "id": "ef29533c",
   "metadata": {},
   "outputs": [],
   "source": [
    "import numpy as np"
   ]
  },
  {
   "cell_type": "code",
   "execution_count": null,
   "id": "20ea5894",
   "metadata": {},
   "outputs": [],
   "source": [
    "# 입력 계층 1개노드 -> 완전 연결 게층 1개 노드 -> 출력 계층 1개 노드 "
   ]
  },
  {
   "cell_type": "code",
   "execution_count": 4,
   "id": "5034dbf7",
   "metadata": {},
   "outputs": [],
   "source": [
    "# overall data\n",
    "x = np.array([0,1,2,3,4])\n",
    "y = x * 2 + 1"
   ]
  },
  {
   "cell_type": "code",
   "execution_count": 7,
   "id": "6bbdc5ac",
   "metadata": {},
   "outputs": [
    {
     "data": {
      "text/plain": [
       "<keras.callbacks.callbacks.History at 0x14576607708>"
      ]
     },
     "execution_count": 7,
     "metadata": {},
     "output_type": "execute_result"
    }
   ],
   "source": [
    "# 인공 신경망 모델 (model이라는 인스턴스를 만듬)\n",
    "model = keras.models.Sequential()\n",
    "\n",
    "# 모델 인스턴스가 생성되면 멤버함수 add()를 이용하여 인공지능 계층을 추가함\n",
    "model.add(keras.layers.Dense(1, input_shape=(1,)))\n",
    "\n",
    "# 학습에 사용되는 최적화 알고리즘: 확률적 경사 하강법\n",
    "# mse: 손실 함수 (평균제곱오차)\n",
    "model.compile('SGD', 'mse')\n",
    "\n",
    "# 모델 학습\n",
    "model.fit(x[:2], y[:2], epochs=10000, verbose=0)"
   ]
  },
  {
   "cell_type": "code",
   "execution_count": 8,
   "id": "005e530d",
   "metadata": {},
   "outputs": [
    {
     "name": "stdout",
     "output_type": "stream",
     "text": [
      "Targets: [5 7 9]\n",
      "Predictions: [4.999976  6.9999585 8.999941 ]\n",
      "Erros: [2.38418579e-05 4.14848328e-05 5.91278076e-05]\n"
     ]
    }
   ],
   "source": [
    "y_pred = model.predict(x[2:]).flatten()\n",
    "print('Targets:', y[2:])\n",
    "print('Predictions:', y_pred)\n",
    "print('Erros:', y[2:] - y_pred)"
   ]
  },
  {
   "cell_type": "code",
   "execution_count": null,
   "id": "478d0b6a",
   "metadata": {},
   "outputs": [],
   "source": []
  }
 ],
 "metadata": {
  "kernelspec": {
   "display_name": "Python 3 (ipykernel)",
   "language": "python",
   "name": "python3"
  },
  "language_info": {
   "codemirror_mode": {
    "name": "ipython",
    "version": 3
   },
   "file_extension": ".py",
   "mimetype": "text/x-python",
   "name": "python",
   "nbconvert_exporter": "python",
   "pygments_lexer": "ipython3",
   "version": "3.7.12"
  }
 },
 "nbformat": 4,
 "nbformat_minor": 5
}
