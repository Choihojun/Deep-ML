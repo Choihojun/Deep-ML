{
 "cells": [
  {
   "attachments": {},
   "cell_type": "markdown",
   "metadata": {},
   "source": [
    "## 필기체를 구분하는 분류 ANN 구현\n",
    "\n",
    "- 1단계: 분류 ANN 구현용 패키지 가져오기\n",
    "- 2단계: 분류 ANN에 필요한 매개변수 설정\n",
    "- 3단계: 분류 ANN모델 구현\n",
    "- 4단계: 학습과 성능 평가용 데이터 가져오기\n",
    "- 5단계: 분류 ANN 학습 및 검증\n",
    "- 6단계: 분류 ANN 학습 결과 분석"
   ]
  },
  {
   "cell_type": "code",
   "execution_count": null,
   "metadata": {},
   "outputs": [],
   "source": [
    "# 1. bring keras package for ANN classification\n",
    "\n",
    "# layers: module that can make layer\n",
    "\n",
    "# models: role for compilng and training after connective each layer with ANN model + Evaluation of model\n",
    "# -> model methods: compile(), fit(), predict(), evaluate()\n",
    "\n",
    "from keras import layers, models"
   ]
  },
  {
   "cell_type": "code",
   "execution_count": null,
   "metadata": {},
   "outputs": [],
   "source": [
    "# 2. define variable at classification ANN\n",
    "\n",
    "# necessary variable list: Nin (입력 게층의 노드수), Nh (은닉 계층의 노드수), number_of_class (출력값이 가질 클래스 수), Nout (출력 노드 수)\n",
    "\n"
   ]
  },
  {
   "cell_type": "code",
   "execution_count": null,
   "metadata": {},
   "outputs": [],
   "source": [
    "# 3. Modeling (important level)\n",
    "\n",
    "# 2 types for modeling Artifical model\n",
    "# distribution model\n",
    "# chain model \n",
    "\n",
    "# 2 types for implementing Artificial model\n",
    "# (1) function oriented (함수형)\n",
    "# (2) object oriented (객체지향형)"
   ]
  }
 ],
 "metadata": {
  "kernelspec": {
   "display_name": "Deep_ML",
   "language": "python",
   "name": "python3"
  },
  "language_info": {
   "name": "python",
   "version": "3.7.12 | packaged by conda-forge | (default, Oct 26 2021, 05:37:49) [MSC v.1916 64 bit (AMD64)]"
  },
  "orig_nbformat": 4,
  "vscode": {
   "interpreter": {
    "hash": "31cf4729de267c639c7a407ad433dd241f7c9981a88ca1bae88b5ae09afc7cd8"
   }
  }
 },
 "nbformat": 4,
 "nbformat_minor": 2
}
