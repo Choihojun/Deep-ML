{
 "cells": [
  {
   "cell_type": "code",
   "execution_count": 2,
   "metadata": {},
   "outputs": [],
   "source": [
    "import gym\n",
    "flake = gym.make(\"FrozenLake-v1\",is_slippery=False)\n",
    "\n",
    "# is_slippery: 환경의 복잡도를 줄이기 위한 미끄럼 모드를 사용하지 않음 -> 각 칸에서 미끄럼을 의미함"
   ]
  },
  {
   "cell_type": "code",
   "execution_count": 3,
   "metadata": {},
   "outputs": [
    {
     "name": "stdout",
     "output_type": "stream",
     "text": [
      "\n",
      "\u001b[41mS\u001b[0mFFF\n",
      "FHFH\n",
      "FFFH\n",
      "HFFG\n"
     ]
    }
   ],
   "source": [
    "k = 0\n",
    "new_s = flake.reset()\n",
    "flake.render()\n",
    "\n",
    "# S -> 시작 지점 (Start)\n",
    "# F -> 얼어 있어서 지나갈수있는 지점 (Frozen)\n",
    "# H -> 구멍이 나서 갈수 없는 지점 (Hall)\n",
    "# G -> 목표 지점을 의미함 (Goal)\n",
    "# 빨간 표시 -> 현재 에이전트가 있는 곳"
   ]
  },
  {
   "cell_type": "code",
   "execution_count": null,
   "metadata": {},
   "outputs": [],
   "source": []
  }
 ],
 "metadata": {
  "kernelspec": {
   "display_name": "Deep_ML",
   "language": "python",
   "name": "python3"
  },
  "language_info": {
   "codemirror_mode": {
    "name": "ipython",
    "version": 3
   },
   "file_extension": ".py",
   "mimetype": "text/x-python",
   "name": "python",
   "nbconvert_exporter": "python",
   "pygments_lexer": "ipython3",
   "version": "3.7.12"
  },
  "orig_nbformat": 4,
  "vscode": {
   "interpreter": {
    "hash": "31cf4729de267c639c7a407ad433dd241f7c9981a88ca1bae88b5ae09afc7cd8"
   }
  }
 },
 "nbformat": 4,
 "nbformat_minor": 2
}
