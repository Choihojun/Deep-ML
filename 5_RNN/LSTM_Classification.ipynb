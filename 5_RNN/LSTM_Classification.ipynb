{
 "cells": [
  {
   "cell_type": "code",
   "execution_count": 4,
   "metadata": {},
   "outputs": [
    {
     "name": "stderr",
     "output_type": "stream",
     "text": [
      "Using TensorFlow backend.\n"
     ]
    }
   ],
   "source": [
    "from __future__ import print_function # 파이썬 버전에 상관없이 print()명령어를 파이썬 3문법으로 어떤 버전이든 사용가능\n",
    "\n",
    "from keras.preprocessing import sequence\n",
    "\n",
    "# Internet Movie Database (IMDB) -> 인터넷 영화에 대한 양극단의 리뷰 5만개\n",
    "# 훈련 데이터 2.5만개, 테스트 데이터 2.5만개 (각각 50% 부정, 50% 긍정 리뷰로 구성됨)\n",
    "from keras.datasets import imdb\n",
    "\n",
    "\n",
    "from keras import layers, models"
   ]
  },
  {
   "cell_type": "code",
   "execution_count": 5,
   "metadata": {},
   "outputs": [],
   "source": [
    "class Data: \n",
    "    def __init__(self, max_featㄴㄴures=20000, maxlen=80):\n",
    "        (self.x_train, self.y_train), (self.x_test, self.y_test) = imdb.load_data(num_words = max_features)\n",
    "        \n",
    "        self.x_train = sequence.pad_sequences(self.x_train, maxlen=maxlen)\n",
    "        self.x_test = sequence.pad_sequences(self.x_test, maxlen=maxlen)\n",
    "\n",
    "class RNN_LSTM(models.Model):\n",
    "    def __init__(self, max_features, maxlen):\n",
    "        x = layers.Input((maxlen, ))\n",
    "        h = layers.Embedding(max_features, 128)(x)\n",
    "        h = layers.LSTM(128, dropout=0.2, recurrent_dropout=0.2)(h)\n",
    "        y = layers.Dense(1, activation='sigmoid')(h)\n",
    "        super().__init__(x, y)\n",
    "        \n",
    "        self.compile(loss='binary_crossentropy', optimizer='adam', metrics=['accuracy'])\n",
    "        \n",
    "class Machine:\n",
    "    def __init__(self, max_features=20000, maxlen=80):\n",
    "        self.data = Data(max_features, maxlen)\n",
    "        self.model = RNN_LSTM(max_features, maxlen)\n",
    "        \n",
    "    def run(self, epochs=3, batch_size=32):\n",
    "        data = self.data\n",
    "        model = self.model\n",
    "        print('Training stage')\n",
    "        print('================')\n",
    "        model.fit(data.x_train, data.y_train, batch_size=batch_size, epochs=epochs, validation_data=(data.x_test, data.y_test))\n",
    "        \n",
    "        score, acc = model.evaluate(data.x_test, data.y_test, batch_size=batch_size)\n",
    "        print('Test performance: accuracy={0}, loss={1}'.format(acc, score))\n",
    "        \n",
    "def main():\n",
    "    m = Machine()\n",
    "    m.run()\n",
    "        \n"
   ]
  },
  {
   "cell_type": "code",
   "execution_count": 7,
   "metadata": {},
   "outputs": [
    {
     "name": "stdout",
     "output_type": "stream",
     "text": [
      "Training stage\n",
      "================\n"
     ]
    },
    {
     "name": "stderr",
     "output_type": "stream",
     "text": [
      "c:\\ProgramData\\Anaconda3\\envs\\Deep_ML\\lib\\site-packages\\tensorflow_core\\python\\framework\\indexed_slices.py:433: UserWarning: Converting sparse IndexedSlices to a dense Tensor of unknown shape. This may consume a large amount of memory.\n",
      "  \"Converting sparse IndexedSlices to a dense Tensor of unknown shape. \"\n"
     ]
    },
    {
     "name": "stdout",
     "output_type": "stream",
     "text": [
      "Train on 25000 samples, validate on 25000 samples\n",
      "Epoch 1/3\n",
      "25000/25000 [==============================] - 106s 4ms/step - loss: 0.4545 - accuracy: 0.7898 - val_loss: 0.4189 - val_accuracy: 0.8076\n",
      "Epoch 2/3\n",
      "25000/25000 [==============================] - 110s 4ms/step - loss: 0.3067 - accuracy: 0.8746 - val_loss: 0.3817 - val_accuracy: 0.8320\n",
      "Epoch 3/3\n",
      "25000/25000 [==============================] - 107s 4ms/step - loss: 0.2180 - accuracy: 0.9164 - val_loss: 0.4368 - val_accuracy: 0.8281\n",
      "25000/25000 [==============================] - 23s 934us/step\n",
      "Test performance: accuracy=0.8281199932098389, loss=0.4367953227186203\n"
     ]
    }
   ],
   "source": [
    "if __name__ == '__main__':\n",
    "    main()"
   ]
  },
  {
   "cell_type": "code",
   "execution_count": null,
   "metadata": {},
   "outputs": [],
   "source": []
  }
 ],
 "metadata": {
  "kernelspec": {
   "display_name": "Deep_ML",
   "language": "python",
   "name": "python3"
  },
  "language_info": {
   "codemirror_mode": {
    "name": "ipython",
    "version": 3
   },
   "file_extension": ".py",
   "mimetype": "text/x-python",
   "name": "python",
   "nbconvert_exporter": "python",
   "pygments_lexer": "ipython3",
   "version": "3.7.12"
  },
  "orig_nbformat": 4,
  "vscode": {
   "interpreter": {
    "hash": "31cf4729de267c639c7a407ad433dd241f7c9981a88ca1bae88b5ae09afc7cd8"
   }
  }
 },
 "nbformat": 4,
 "nbformat_minor": 2
}
